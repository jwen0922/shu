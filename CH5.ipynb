{
 "cells": [
  {
   "cell_type": "code",
   "execution_count": 1,
   "metadata": {},
   "outputs": [
    {
     "name": "stdout",
     "output_type": "stream",
     "text": [
      "Enater your score: 30\n",
      "Your score is 30\n"
     ]
    }
   ],
   "source": [
    "score = eval(input('Enater your score: '))\n",
    "if score >= 60:\n",
    "    score += 10\n",
    "print('Your score is %d'%(score))"
   ]
  },
  {
   "cell_type": "code",
   "execution_count": 2,
   "metadata": {},
   "outputs": [
    {
     "name": "stdout",
     "output_type": "stream",
     "text": [
      "Enter your score: 88.8\n",
      "Your score is 98\n"
     ]
    }
   ],
   "source": [
    "score = eval(input('Enter your score: '))\n",
    "if score >= 28:\n",
    "    score += 10\n",
    "else:\n",
    "    score +=8\n",
    "print('Your score is %d'%(score))"
   ]
  },
  {
   "cell_type": "code",
   "execution_count": 3,
   "metadata": {},
   "outputs": [
    {
     "name": "stdout",
     "output_type": "stream",
     "text": [
      "Enter temperature today: 20\n",
      "Comfortable\n",
      "Over\n"
     ]
    }
   ],
   "source": [
    "temperature = eval(input('Enter temperature today: '))\n",
    "if temperature >= 28:\n",
    "    print('Hot')\n",
    "else:\n",
    "    print('Comfortable')\n",
    "print('Over')"
   ]
  },
  {
   "cell_type": "code",
   "execution_count": 4,
   "metadata": {},
   "outputs": [
    {
     "name": "stdout",
     "output_type": "stream",
     "text": [
      "Enter temperature today: 255\n",
      "Hot\n",
      "Over\n"
     ]
    }
   ],
   "source": [
    "temperature = eval(input('Enter temperature today: '))\n",
    "if temperature >= 28:\n",
    "    print('Hot')\n",
    "elif temperature >= 22:\n",
    "    print('Comfortable')\n",
    "else:\n",
    "    print('Cold')\n",
    "print('Over')"
   ]
  },
  {
   "cell_type": "code",
   "execution_count": 5,
   "metadata": {},
   "outputs": [
    {
     "name": "stdout",
     "output_type": "stream",
     "text": [
      "Enter temperature today: 45\n",
      "Enter humility today: 50\n",
      "Hot\n",
      "Over\n"
     ]
    }
   ],
   "source": [
    "temperature = eval(input('Enter temperature today: '))\n",
    "humility = eval(input('Enter humility today: '))\n",
    "if temperature >= 28:\n",
    "    print('Hot')\n",
    "elif temperature >= 22 and humility >= 40 and humility <= 50:\n",
    "    print('Comfortable')\n",
    "else:\n",
    "    print('Cold')\n",
    "print('Over')\n"
   ]
  },
  {
   "cell_type": "code",
   "execution_count": 6,
   "metadata": {},
   "outputs": [
    {
     "name": "stdout",
     "output_type": "stream",
     "text": [
      "Enter a character: b\n",
      "b is lowerecase character\n"
     ]
    }
   ],
   "source": [
    "char = input('Enter a character: ')\n",
    "if char >= 'a' and char <= 'z':\n",
    "    print('%c is lowerecase character'%(char))\n",
    "elif char >='A' and char <='Z':\n",
    "    print('%c is uppercase character'%(char))\n",
    "else:\n",
    "    print('%s is other character'%(char))"
   ]
  },
  {
   "cell_type": "code",
   "execution_count": 7,
   "metadata": {},
   "outputs": [
    {
     "name": "stdout",
     "output_type": "stream",
     "text": [
      "Enter a number: 1\n",
      "1 is odd number.\n",
      "Test is over\n"
     ]
    }
   ],
   "source": [
    "num = eval(input('Enter a number: '))\n",
    "if num % 2 == 0:\n",
    "    print('%d'%(num), end='')\n",
    "    print(' is even number.')\n",
    "else:\n",
    "    print('%d'%(num), end='')\n",
    "    print(' is odd number.')\n",
    "print('Test is over')"
   ]
  },
  {
   "cell_type": "code",
   "execution_count": 8,
   "metadata": {},
   "outputs": [
    {
     "name": "stdout",
     "output_type": "stream",
     "text": [
      "Please input radius: 3\n",
      "radius =  3\n",
      "area =  28.27422\n"
     ]
    }
   ],
   "source": [
    "radius = eval(input(\"Please input radius: \"))\n",
    "if radius < 0:\n",
    "    print(\"Negative is not invalid !!!\")\n",
    "else:\n",
    "    area = radius * radius * 3.14158\n",
    "print(\"radius = \", radius)\n",
    "print(\"area = \", area)"
   ]
  },
  {
   "cell_type": "code",
   "execution_count": 9,
   "metadata": {},
   "outputs": [
    {
     "name": "stdout",
     "output_type": "stream",
     "text": [
      "Enter temperature today: 24\n",
      "Comfortable\n",
      "Over\n"
     ]
    }
   ],
   "source": [
    "temperature = eval(input('Enter temperature today: '))\n",
    "if temperature >= 28:\n",
    "    print('Hot')\n",
    "elif temperature >= 22:\n",
    "    print('Comfortable')\n",
    "else:\n",
    "    print('Cold')\n",
    "print('Over')"
   ]
  },
  {
   "cell_type": "code",
   "execution_count": 10,
   "metadata": {},
   "outputs": [
    {
     "name": "stdout",
     "output_type": "stream",
     "text": [
      "Enter  your score: 58\n",
      "Your score is 66\n"
     ]
    }
   ],
   "source": [
    "score = eval(input('Enter  your score: '))\n",
    "if score >= 60:\n",
    "    score += 10\n",
    "else:\n",
    "    score += 8\n",
    "print('Your score is %d'%(score))\n"
   ]
  },
  {
   "cell_type": "code",
   "execution_count": 11,
   "metadata": {},
   "outputs": [
    {
     "name": "stdout",
     "output_type": "stream",
     "text": [
      "Enter temperature today: 22\n",
      "Enter humility today: 35\n",
      "Cold\n",
      "Over\n"
     ]
    }
   ],
   "source": [
    "temperature = eval(input('Enter temperature today: '))\n",
    "humility = eval(input('Enter humility today: '))\n",
    "if temperature >= 28:\n",
    "    print('Hot')\n",
    "elif temperature >= 22 & humility >= 40 & humility <= 50:\n",
    "    print('Comfortable')\n",
    "else:\n",
    "    print('Cold')\n",
    "print('Over')"
   ]
  },
  {
   "cell_type": "code",
   "execution_count": 15,
   "metadata": {},
   "outputs": [
    {
     "name": "stdout",
     "output_type": "stream",
     "text": [
      "Please input what year? 500\n",
      "500is not leap year"
     ]
    }
   ],
   "source": [
    "year = eval(input(\"Please input what year? \"))\n",
    "if year % 400 == 0 and (yaer % 4 == 0 or yaer % 100 != 0):\n",
    "    print(yaer, end=\"is leap yaer\")\n",
    "else:\n",
    "    print(year, end=\"is not leap year\")"
   ]
  },
  {
   "cell_type": "code",
   "execution_count": 16,
   "metadata": {},
   "outputs": [
    {
     "name": "stdout",
     "output_type": "stream",
     "text": [
      "Enter a character: g\n",
      "g is lowercase character\n"
     ]
    }
   ],
   "source": [
    "char = input('Enter a character: ')\n",
    "if char >= 'a' and char <= 'z':\n",
    "    print('%c is lowercase character'%(char))\n",
    "elif char >='A' and char <='Z':\n",
    "    print('%c is uppercase character'%(char))\n",
    "else:\n",
    "    print('%s is other character'%(char))"
   ]
  },
  {
   "cell_type": "code",
   "execution_count": 17,
   "metadata": {},
   "outputs": [
    {
     "name": "stdout",
     "output_type": "stream",
     "text": [
      "Enter a number: 50\n",
      "50 is even number.\n",
      "Test is over.\n"
     ]
    }
   ],
   "source": [
    "num = eval(input('Enter a number: '))\n",
    "if num % 2 == 0:\n",
    "    print('%d'%(num), end='')\n",
    "    print(' is even number.')\n",
    "else:\n",
    "    print('%d'%(num), end='')\n",
    "    print(' is even number.')\n",
    "print('Test is over.')"
   ]
  },
  {
   "cell_type": "code",
   "execution_count": null,
   "metadata": {},
   "outputs": [],
   "source": []
  }
 ],
 "metadata": {
  "kernelspec": {
   "display_name": "Python 3",
   "language": "python",
   "name": "python3"
  },
  "language_info": {
   "codemirror_mode": {
    "name": "ipython",
    "version": 3
   },
   "file_extension": ".py",
   "mimetype": "text/x-python",
   "name": "python",
   "nbconvert_exporter": "python",
   "pygments_lexer": "ipython3",
   "version": "3.8.3"
  }
 },
 "nbformat": 4,
 "nbformat_minor": 4
}
