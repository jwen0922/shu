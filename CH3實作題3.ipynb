{
 "cells": [
  {
   "cell_type": "code",
   "execution_count": null,
   "metadata": {},
   "outputs": [],
   "source": [
    "a=eval(input(\"enter height:\"))\n",
    "b=eval(input(\"enter weight:\"))\n",
    "       \n",
    "print(\"height=\",a)\n",
    "print(\"weight=\",b)\n",
    "print(\"perimeter=\",((a+b)*2/4))\n",
    "print(\"area\",a*b)"
   ]
  },
  {
   "cell_type": "code",
   "execution_count": null,
   "metadata": {},
   "outputs": [],
   "source": []
  },
  {
   "cell_type": "code",
   "execution_count": 3,
   "metadata": {},
   "outputs": [
    {
     "name": "stdout",
     "output_type": "stream",
     "text": [
      "x(min)=10\n",
      "y(sec)=25\n",
      "z(km)=3\n",
      "10.8\n"
     ]
    }
   ],
   "source": [
    "#按照順序x分y秒跑完z公里\n",
    "a=eval(input(\"x(min)=\"))\n",
    "b=eval(input(\"y(sec)=\"))\n",
    "c=eval(input(\"z(km)=\"))\n",
    "d=c/1.6\n",
    "e=((a*60+b)/3600)\n",
    "f=d/e\n",
    "\n",
    "print(f)\n",
    "\n"
   ]
  },
  {
   "cell_type": "code",
   "execution_count": 5,
   "metadata": {},
   "outputs": [
    {
     "name": "stdout",
     "output_type": "stream",
     "text": [
      "mile:10\n",
      "16.0\n"
     ]
    }
   ],
   "source": [
    "a=eval(input(\"mile:\"))\n",
    "a*1.6\n",
    "\n",
    "print(a*1.6)\n"
   ]
  },
  {
   "cell_type": "code",
   "execution_count": 8,
   "metadata": {},
   "outputs": [
    {
     "name": "stdout",
     "output_type": "stream",
     "text": [
      "華氏溫度:100\n",
      "37.77777777777778\n"
     ]
    }
   ],
   "source": [
    "a=eval(input(\"華氏溫度:\"))\n",
    "攝氏溫度=((a-32)*5/9)\n",
    "\n",
    "print(攝氏溫度)"
   ]
  },
  {
   "cell_type": "code",
   "execution_count": 9,
   "metadata": {},
   "outputs": [
    {
     "name": "stdout",
     "output_type": "stream",
     "text": [
      "a:10\n",
      "b:8\n",
      "c:6\n",
      "24\n",
      "8.0\n"
     ]
    }
   ],
   "source": [
    "a=eval(input(\"a:\"))\n",
    "b=eval(input(\"b:\"))\n",
    "c=eval(input(\"c:\"))\n",
    "d=a+b+c\n",
    "e=(a+b+c)/3\n",
    "\n",
    "print(d)\n",
    "print(e)"
   ]
  },
  {
   "cell_type": "code",
   "execution_count": 22,
   "metadata": {
    "scrolled": true
   },
   "outputs": [
    {
     "name": "stdout",
     "output_type": "stream",
     "text": [
      "姓名:12\n",
      "學號:123\n",
      "地址:1234\n",
      "(12, 123, 1234)\n"
     ]
    }
   ],
   "source": [
    "a=eval(input(str(\"姓名:\")))\n",
    "b=eval(input(\"學號:\"))\n",
    "c=eval(input(\"地址:\"))\n",
    "\n",
    "print(a,b,c)\n"
   ]
  },
  {
   "cell_type": "code",
   "execution_count": null,
   "metadata": {},
   "outputs": [],
   "source": []
  }
 ],
 "metadata": {
  "kernelspec": {
   "display_name": "Python 3",
   "language": "python",
   "name": "python3"
  },
  "language_info": {
   "codemirror_mode": {
    "name": "ipython",
    "version": 3
   },
   "file_extension": ".py",
   "mimetype": "text/x-python",
   "name": "python",
   "nbconvert_exporter": "python",
   "pygments_lexer": "ipython3",
   "version": "3.7.3"
  }
 },
 "nbformat": 4,
 "nbformat_minor": 2
}
